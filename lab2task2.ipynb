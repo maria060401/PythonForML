{
  "nbformat": 4,
  "nbformat_minor": 0,
  "metadata": {
    "colab": {
      "provenance": [],
      "authorship_tag": "ABX9TyMcByjcUgupY7HcvjkBZp76",
      "include_colab_link": true
    },
    "kernelspec": {
      "name": "python3",
      "display_name": "Python 3"
    },
    "language_info": {
      "name": "python"
    }
  },
  "cells": [
    {
      "cell_type": "markdown",
      "metadata": {
        "id": "view-in-github",
        "colab_type": "text"
      },
      "source": [
        "<a href=\"https://colab.research.google.com/github/maria060401/PythonForML/blob/while_variant/lab2task2.ipynb\" target=\"_parent\"><img src=\"https://colab.research.google.com/assets/colab-badge.svg\" alt=\"Open In Colab\"/></a>"
      ]
    },
    {
      "cell_type": "code",
      "execution_count": null,
      "metadata": {
        "colab": {
          "base_uri": "https://localhost:8080/"
        },
        "id": "1iv0yO3mn727",
        "outputId": "025ff554-6fab-4f01-f2ba-f9774e6acd1c"
      },
      "outputs": [
        {
          "output_type": "stream",
          "name": "stdout",
          "text": [
            "\n",
            "List of numbers: \n",
            "[13, 22, 4]\n"
          ]
        }
      ],
      "source": [
        "List = [13, 22, 4]\n",
        "print(\"\\nList of numbers: \")\n",
        "print(List)"
      ]
    },
    {
      "cell_type": "code",
      "source": [
        "List = [13, 22, 4]\n",
        "for i in List:\n",
        "  print(i)"
      ],
      "metadata": {
        "colab": {
          "base_uri": "https://localhost:8080/"
        },
        "id": "efv4lBQWptzG",
        "outputId": "846d563d-6935-4f3f-d05a-a1a908db2d37"
      },
      "execution_count": 2,
      "outputs": [
        {
          "output_type": "stream",
          "name": "stdout",
          "text": [
            "13\n",
            "22\n",
            "4\n"
          ]
        }
      ]
    },
    {
      "cell_type": "code",
      "source": [
        "List = [13, 22, 4]\n",
        "i=0\n",
        "while i<(len(List)):\n",
        "  print(List[i])\n",
        "  i=i+1"
      ],
      "metadata": {
        "colab": {
          "base_uri": "https://localhost:8080/"
        },
        "id": "tTaS2CfKqvWE",
        "outputId": "526fd21b-690c-4a62-d46b-40d15e70dc94"
      },
      "execution_count": 5,
      "outputs": [
        {
          "output_type": "stream",
          "name": "stdout",
          "text": [
            "13\n",
            "22\n",
            "4\n"
          ]
        }
      ]
    }
  ]
}