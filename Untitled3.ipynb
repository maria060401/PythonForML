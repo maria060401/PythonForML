{
  "nbformat": 4,
  "nbformat_minor": 0,
  "metadata": {
    "colab": {
      "provenance": [],
      "authorship_tag": "ABX9TyO4K/ArewcW+140uceDyJwi",
      "include_colab_link": true
    },
    "kernelspec": {
      "name": "python3",
      "display_name": "Python 3"
    },
    "language_info": {
      "name": "python"
    }
  },
  "cells": [
    {
      "cell_type": "markdown",
      "metadata": {
        "id": "view-in-github",
        "colab_type": "text"
      },
      "source": [
        "<a href=\"https://colab.research.google.com/github/maria060401/PythonForML/blob/task5/Untitled3.ipynb\" target=\"_parent\"><img src=\"https://colab.research.google.com/assets/colab-badge.svg\" alt=\"Open In Colab\"/></a>"
      ]
    },
    {
      "cell_type": "code",
      "execution_count": 1,
      "metadata": {
        "colab": {
          "base_uri": "https://localhost:8080/"
        },
        "id": "X5BUh0ga0YCD",
        "outputId": "e64bb1fe-6fdc-4447-fa1e-cd65808910ae"
      },
      "outputs": [
        {
          "output_type": "stream",
          "name": "stdout",
          "text": [
            "Cloning into 'temp'...\n",
            "remote: Enumerating objects: 32, done.\u001b[K\n",
            "remote: Counting objects: 100% (32/32), done.\u001b[K\n",
            "remote: Compressing objects: 100% (28/28), done.\u001b[K\n",
            "remote: Total 32 (delta 12), reused 3 (delta 0), pack-reused 0\u001b[K\n",
            "Receiving objects: 100% (32/32), 5.61 KiB | 5.61 MiB/s, done.\n",
            "Resolving deltas: 100% (12/12), done.\n"
          ]
        }
      ],
      "source": [
        "!git clone https://github.com/maria060401/PythonForML.git temp\n"
      ]
    },
    {
      "cell_type": "code",
      "source": [
        "!mv -f temp/{.,}* ."
      ],
      "metadata": {
        "colab": {
          "base_uri": "https://localhost:8080/"
        },
        "id": "PjQzJGoi0-fE",
        "outputId": "e6aca2fa-deb9-4a9f-8ea1-5196e183e3fd"
      },
      "execution_count": 2,
      "outputs": [
        {
          "output_type": "stream",
          "name": "stdout",
          "text": [
            "mv: cannot move 'temp/.' to './.': Device or resource busy\n",
            "mv: cannot move 'temp/..' to './..': Device or resource busy\n"
          ]
        }
      ]
    },
    {
      "cell_type": "code",
      "source": [
        "!rm -rf temp"
      ],
      "metadata": {
        "id": "rUeZeQOq1HEs"
      },
      "execution_count": 3,
      "outputs": []
    },
    {
      "cell_type": "code",
      "source": [
        "!touch utils.py"
      ],
      "metadata": {
        "id": "904n-pMN1PIC"
      },
      "execution_count": 4,
      "outputs": []
    }
  ]
}